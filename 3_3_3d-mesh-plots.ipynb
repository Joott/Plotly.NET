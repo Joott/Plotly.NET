
        {
            "cells": [
          {
           "cell_type": "markdown",
           "metadata": {},
           
           "source": ["// can\u0027t yet format YamlFrontmatter ([\"title: 3D Mesh plots\"; \"category: 3D Charts\"; \"categoryindex: 4\"; \"index: 4\"], Some { StartLine = 2 StartColumn = 0 EndLine = 6 EndColumn = 8 }) to pynb markdown\n",
"\n"]
          }
,
          {
           "cell_type": "code",
           "metadata": {},
            "execution_count": null, "outputs": [], 
           "source": ["#r \"nuget: Plotly.NET, 2.0.0\"\n",
"#r \"nuget: Plotly.NET.Interactive, 2.0.0\"\n"]
          }
,
          {
           "cell_type": "markdown",
           "metadata": {},
           
           "source": ["# 3D Mesh plots\n",
"\n",
"[![Binder](https://plotly.net/img/badge-binder.svg)](https://mybinder.org/v2/gh/plotly/Plotly.NET/gh-pages?filepath=3_3_3d-mesh-plots.ipynb)\u0026emsp;\n",
"[![Script](https://plotly.net/img/badge-script.svg)](https://plotly.net/3_3_3d-mesh-plots.fsx)\u0026emsp;\n",
"[![Notebook](https://plotly.net/img/badge-notebook.svg)](https://plotly.net/3_3_3d-mesh-plots.ipynb)\n",
"\n",
"*Summary:* This example shows how to create 3D-Mesh charts in F#.\n",
"\n",
"let\u0027s first create some data for the purpose of creating example charts:\n",
"\n"]
          }
,
          {
           "cell_type": "code",
           "metadata": {},
            "execution_count": 3, "outputs": [], 
           "source": ["open System\n",
"open Plotly.NET \n",
"\n",
"\n",
"//---------------------- Generate linearly spaced vector ----------------------\n",
"let linspace (min,max,n) = \n",
"    if n \u003c= 2 then failwithf \"n needs to be larger then 2\"\n",
"    let bw = float (max - min) / (float n - 1.)\n",
"    Array.init n (fun i -\u003e min + (bw * float i))\n",
"    //[|min ..bw ..max|]\n",
"\n",
"//---------------------- Create example data ----------------------\n",
"let size = 100\n",
"let x = linspace(-2. * Math.PI, 2. * Math.PI, size)\n",
"let y = linspace(-2. * Math.PI, 2. * Math.PI, size)\n",
"\n",
"let f x y = - (5. * x / (x**2. + y**2. + 1.) )\n",
"\n",
"let z = \n",
"    Array.init size (fun i -\u003e \n",
"        Array.init size (fun j -\u003e \n",
"            f x.[j] y.[i] \n",
"        )\n",
"    )\n",
"\n",
"let rnd = System.Random()\n",
"let a = Array.init 50 (fun _ -\u003e rnd.NextDouble())\n",
"let b = Array.init 50 (fun _ -\u003e rnd.NextDouble())\n",
"let c = Array.init 50 (fun _ -\u003e rnd.NextDouble())\n",
"\n",
"\n",
"let mesh3d =\n",
"    Trace3d.initMesh3d \n",
"        (fun mesh3d -\u003e\n",
"            mesh3d?x \u003c- a\n",
"            mesh3d?y \u003c- b\n",
"            mesh3d?z \u003c- c\n",
"            mesh3d?flatshading \u003c- true\n",
"            mesh3d?contour \u003c- Contours.initXyz(Show=true)\n",
"            mesh3d\n",
"            )\n",
"    |\u003e GenericChart.ofTraceObject \n",
"    \n"]
          }
,
          {
           "cell_type": "code",
           "metadata": {},
            "execution_count": null, "outputs": [
          {
           "data": {
            "text/html": ["\u003cdiv id=\"14a620a2-3143-40a8-a485-05f62009d48a\" style=\"width: 600px; height: 600px;\"\u003e\u003c!-- Plotly chart will be drawn inside this DIV --\u003e\u003c/div\u003e",
"\u003cscript type=\"text/javascript\"\u003e",
"",
"            var renderPlotly_14a620a2314340a8a48505f62009d48a = function() {",
"            var fsharpPlotlyRequire = requirejs.config({context:\u0027fsharp-plotly\u0027,paths:{plotly:\u0027https://cdn.plot.ly/plotly-latest.min\u0027}}) || require;",
"            fsharpPlotlyRequire([\u0027plotly\u0027], function(Plotly) {",
"",
"            var data = [{\"type\":\"mesh3d\",\"x\":[0.7935375113941439,0.013344693935171093,0.10866209124618308,0.34689841435612107,0.6206194812527949,0.812169424170707,0.010502787777456822,0.5183060539505938,0.3351108675520452,0.5984745829359044,0.38754488499255146,0.13087050715967571,0.5780154865132717,0.8562534935103047,0.49677650001681245,0.8077885307407885,0.8146598263711947,0.19042611456961656,0.292704409590319,0.8002157690004519,0.5157575460689876,0.7917182528375267,0.09612080692132972,0.8979268059590491,0.7797041264268123,0.8079461547583091,0.5137638130754996,0.25911196612711623,0.5760909750014968,0.4344335521731682,0.9690156509024164,0.4313932496269202,0.728306838184738,0.32346821777684065,0.17951334276213932,0.462659780151518,0.25941873819540195,0.002137108706933031,0.7877427226806724,0.4167613775547414,0.775575465883862,0.9307134034720778,0.2993937229269155,0.9152923957050277,0.2379414449622582,0.2489246405888929,0.17164737646079034,0.5621155191036479,0.685223885199625,0.6369385838680615],\"y\":[0.8935548271488188,0.9963858723623612,0.7049928897549365,0.4708008074531335,0.616498154875123,0.0018192585566170786,0.9172238870138414,0.210735285287134,0.5671942879293087,0.8126733264944858,0.2984056110952076,0.7513908216503407,0.9422150789490971,0.900677315378877,0.629458932033488,0.9561516353656313,0.4025636689749377,0.254547268736431,0.6767401507481654,0.034116719865294506,0.5483697925453865,0.8125227176642617,0.40268339188894414,0.8759430320355776,0.024640303116589928,0.5850441425969098,0.4923245299106112,0.18082841121630203,0.6599853609967908,0.5307794858379195,0.6362987782975188,0.9516482939718516,0.5738880809274912,0.9391523911334353,0.5408787250243494,0.9726297785400552,0.7264003598719837,0.25750603073160444,0.7069700629017176,0.17769408420552224,0.5454358931376766,0.04868345290826794,0.4349428207776243,0.9750693961861866,0.11835576645953384,0.024184644233521374,0.9884983245229806,0.3987164075480385,0.28583346367153967,0.2817898095966269],\"z\":[0.8463609716139552,0.9171001077243593,0.8853753683554825,0.6511071653343304,0.08856879132267496,0.08103210948455711,0.5937024804734171,0.8290498577193589,0.44616050433654364,0.03145401227821317,0.5094947286460059,0.7363954757975393,0.5507499242903432,0.03641480209138934,0.17637454819696702,0.34675731712335595,0.17750274072284938,0.0030626878156618624,0.3597985903545276,0.6568291534934328,0.22975127549364757,0.14505763824333326,0.5475772058347134,0.49904606654264316,0.4886808267276179,0.49968633963711856,0.3775798968866374,0.4276139957027575,0.7575872655760437,0.0004556588830685517,0.5965458180739293,0.09360812236257275,0.8949949475447624,0.3781955514001639,0.6844185142239642,0.7191986705731594,0.06627292561636908,0.9227809155931608,0.8505835998107603,0.4598466155397923,0.3789272980666381,0.8973505021526248,0.8113455263950609,0.6755160506235045,0.6681993555595164,0.8090404173401372,0.4979335286179248,0.39852801868623494,0.7986948479892196,0.7715984493361778],\"flatshading\":true,\"contour\":{\"x\":{\"show\":true},\"y\":{\"show\":true},\"z\":{\"show\":true}}}];",
"            var layout = {};",
"            var config = {};",
"            Plotly.newPlot(\u002714a620a2-3143-40a8-a485-05f62009d48a\u0027, data, layout, config);",
"});",
"            };",
"            if ((typeof(requirejs) !==  typeof(Function)) || (typeof(requirejs.config) !== typeof(Function))) {",
"                var script = document.createElement(\"script\");",
"                script.setAttribute(\"src\", \"https://cdnjs.cloudflare.com/ajax/libs/require.js/2.3.6/require.min.js\");",
"                script.onload = function(){",
"                    renderPlotly_14a620a2314340a8a48505f62009d48a();",
"                };",
"                document.getElementsByTagName(\"head\")[0].appendChild(script);",
"            }",
"            else {",
"                renderPlotly_14a620a2314340a8a48505f62009d48a();",
"            }",
"\u003c/script\u003e",
""]
        },
           "execution_count": null,
           "metadata": {},
           "output_type": "execute_result"
          }], 
           "source": ["mesh3d\n"]
          }],
            "metadata": {
            "kernelspec": {"display_name": ".NET (F#)", "language": "F#", "name": ".net-fsharp"},
            "langauge_info": {
        "file_extension": ".fs",
        "mimetype": "text/x-fsharp",
        "name": "C#",
        "pygments_lexer": "fsharp",
        "version": "4.5"
        }
        },
            "nbformat": 4,
            "nbformat_minor": 1
        }
        

