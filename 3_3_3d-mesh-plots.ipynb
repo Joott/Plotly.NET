
        {
            "cells": [
          {
           "cell_type": "markdown",
           "metadata": {},
           
           "source": ["// can\u0027t yet format YamlFrontmatter ([\"title: 3D Mesh plots\"; \"category: 3D Charts\"; \"categoryindex: 4\"; \"index: 4\"], Some { StartLine = 2 StartColumn = 0 EndLine = 6 EndColumn = 8 }) to pynb markdown\n",
"\n"]
          }
,
          {
           "cell_type": "code",
           "metadata": {},
            "execution_count": null, "outputs": [], 
           "source": ["#r \"nuget: Plotly.NET, 2.0.0\"\n",
"#r \"nuget: Plotly.NET.Interactive, 2.0.0\"\n"]
          }
,
          {
           "cell_type": "markdown",
           "metadata": {},
           
           "source": ["# 3D Mesh plots\n",
"\n",
"[![Binder](https://plotly.net/img/badge-binder.svg)](https://mybinder.org/v2/gh/plotly/Plotly.NET/gh-pages?filepath=3_3_3d-mesh-plots.ipynb)\u0026emsp;\n",
"[![Script](https://plotly.net/img/badge-script.svg)](https://plotly.net/3_3_3d-mesh-plots.fsx)\u0026emsp;\n",
"[![Notebook](https://plotly.net/img/badge-notebook.svg)](https://plotly.net/3_3_3d-mesh-plots.ipynb)\n",
"\n",
"*Summary:* This example shows how to create 3D-Mesh charts in F#.\n",
"\n",
"let\u0027s first create some data for the purpose of creating example charts:\n",
"\n"]
          }
,
          {
           "cell_type": "code",
           "metadata": {},
            "execution_count": 3, "outputs": [], 
           "source": ["open System\n",
"open Plotly.NET \n",
"\n",
"\n",
"//---------------------- Generate linearly spaced vector ----------------------\n",
"let linspace (min,max,n) = \n",
"    if n \u003c= 2 then failwithf \"n needs to be larger then 2\"\n",
"    let bw = float (max - min) / (float n - 1.)\n",
"    Array.init n (fun i -\u003e min + (bw * float i))\n",
"    //[|min ..bw ..max|]\n",
"\n",
"//---------------------- Create example data ----------------------\n",
"let size = 100\n",
"let x = linspace(-2. * Math.PI, 2. * Math.PI, size)\n",
"let y = linspace(-2. * Math.PI, 2. * Math.PI, size)\n",
"\n",
"let f x y = - (5. * x / (x**2. + y**2. + 1.) )\n",
"\n",
"let z = \n",
"    Array.init size (fun i -\u003e \n",
"        Array.init size (fun j -\u003e \n",
"            f x.[j] y.[i] \n",
"        )\n",
"    )\n",
"\n",
"let rnd = System.Random()\n",
"let a = Array.init 50 (fun _ -\u003e rnd.NextDouble())\n",
"let b = Array.init 50 (fun _ -\u003e rnd.NextDouble())\n",
"let c = Array.init 50 (fun _ -\u003e rnd.NextDouble())\n",
"\n",
"\n",
"let mesh3d =\n",
"    Trace3d.initMesh3d \n",
"        (fun mesh3d -\u003e\n",
"            mesh3d?x \u003c- a\n",
"            mesh3d?y \u003c- b\n",
"            mesh3d?z \u003c- c\n",
"            mesh3d?flatshading \u003c- true\n",
"            mesh3d?contour \u003c- Contours.initXyz(Show=true)\n",
"            mesh3d\n",
"            )\n",
"    |\u003e GenericChart.ofTraceObject \n",
"    \n"]
          }
,
          {
           "cell_type": "code",
           "metadata": {},
            "execution_count": null, "outputs": [
          {
           "data": {
            "text/html": ["\u003cdiv id=\"ab4c8c84-bcea-4a9c-aab4-ade572840936\" style=\"width: 600px; height: 600px;\"\u003e\u003c!-- Plotly chart will be drawn inside this DIV --\u003e\u003c/div\u003e",
"\u003cscript type=\"text/javascript\"\u003e",
"",
"            var renderPlotly_ab4c8c84bcea4a9caab4ade572840936 = function() {",
"            var fsharpPlotlyRequire = requirejs.config({context:\u0027fsharp-plotly\u0027,paths:{plotly:\u0027https://cdn.plot.ly/plotly-latest.min\u0027}}) || require;",
"            fsharpPlotlyRequire([\u0027plotly\u0027], function(Plotly) {",
"",
"            var data = [{\"type\":\"mesh3d\",\"x\":[0.5684504623377931,0.21343576079860133,0.07136197996854875,0.007104372608989651,0.5203453989328563,0.07048625222895585,0.8033738782645081,0.47590752713191675,0.05651994005614889,0.02352120448999163,0.06862081357679367,0.3691729429965713,0.11547636944589967,0.44428958950764014,0.40287973238289343,0.8560474765748006,0.5588085016043897,0.3685118478576242,0.6157129712475989,0.10156523813566437,0.6435724248381203,0.5101870538248621,0.8076356727665457,0.3154536910892714,0.21040312815942017,0.7380660938741948,0.5002671780531608,0.2388258950034277,0.6064402454562673,0.06844554053081457,0.7681244522184713,0.8454266990746496,0.20070755165103243,0.7742166555366556,0.9331153463260807,0.9221347202184306,0.21937860232748957,0.38935098209853797,0.6814389860636736,0.4649322482128312,0.2347124359732086,0.6412726252531971,0.6025146276701776,0.5879216541479908,0.32936819239024456,0.0738626276486845,0.4305637289912271,0.946455468398731,0.26238299499376816,0.15942973604399233],\"y\":[0.5753987401609303,0.1752429386485568,0.6740071678878773,0.5822172246790571,0.23595630295386366,0.05826340851293104,0.4058000880320557,0.7559082888792773,0.7967012444495695,0.7822793050586615,0.5702190741757951,0.5645479832610805,0.8694672816756495,0.9880743995253343,0.2553967522715203,0.2231941145021441,0.16846539134553884,0.34125971390924403,0.5111742431815594,0.4807450121644628,0.6366688742473111,0.16945751950585167,0.6870728617939506,0.15078072303476778,0.8668528021624557,0.0022997995849232187,0.9076724261546845,0.21971401861855483,0.9860854986990268,0.13654050051073566,0.3075023648829676,0.5538117096544298,0.9764429000096595,0.44701050941227494,0.49304680036988424,0.5928815135699145,0.17141953118677228,0.6184903269719753,0.538260352582792,0.8748519378131497,0.5163346321863749,0.46347031344821227,0.5926497376489684,0.8991596810050121,0.8947131740370361,0.6701644527121281,0.7718053435775476,0.6144402281448432,0.3325249018764705,0.10617407788810045],\"z\":[0.9053972363031456,0.08930401508198307,0.4352812252171716,0.7816379828293053,0.5227608617966812,0.40594122065507865,0.48817007685460617,0.5232264448531095,0.7153644225166014,0.23365650336894045,0.15059098235824656,0.18608606941350087,0.7698227901802505,0.6601607439388338,0.47477694017569394,0.016407364521365316,0.588105083251421,0.4224567722633745,0.49502759915545,0.6625152387016058,0.051774583315371804,0.5499750643735636,0.802999361326452,0.6363223053684096,0.9644103799780879,0.17319856079909884,0.5768077818568832,0.7879131807889385,0.25606754899773165,0.19668834945032762,0.2304944560073756,0.29323219800984124,0.8871891167420843,0.8799114208109264,0.23114326420759002,0.21819834980098454,0.11853048443725821,0.1948049171803542,0.9242496476155937,0.08710557971480562,0.10471143671530832,0.6481930863336628,0.903125904455374,0.30460384921385153,0.7242609554549032,0.33024856277287407,0.6936475232679619,0.9324889937101346,0.42438274082931815,0.8783058095156708],\"flatshading\":true,\"contour\":{\"x\":{\"show\":true},\"y\":{\"show\":true},\"z\":{\"show\":true}}}];",
"            var layout = {};",
"            var config = {};",
"            Plotly.newPlot(\u0027ab4c8c84-bcea-4a9c-aab4-ade572840936\u0027, data, layout, config);",
"});",
"            };",
"            if ((typeof(requirejs) !==  typeof(Function)) || (typeof(requirejs.config) !== typeof(Function))) {",
"                var script = document.createElement(\"script\");",
"                script.setAttribute(\"src\", \"https://cdnjs.cloudflare.com/ajax/libs/require.js/2.3.6/require.min.js\");",
"                script.onload = function(){",
"                    renderPlotly_ab4c8c84bcea4a9caab4ade572840936();",
"                };",
"                document.getElementsByTagName(\"head\")[0].appendChild(script);",
"            }",
"            else {",
"                renderPlotly_ab4c8c84bcea4a9caab4ade572840936();",
"            }",
"\u003c/script\u003e",
""]
        },
           "execution_count": null,
           "metadata": {},
           "output_type": "execute_result"
          }], 
           "source": ["mesh3d\n"]
          }],
            "metadata": {
            "kernelspec": {"display_name": ".NET (F#)", "language": "F#", "name": ".net-fsharp"},
            "langauge_info": {
        "file_extension": ".fs",
        "mimetype": "text/x-fsharp",
        "name": "C#",
        "pygments_lexer": "fsharp",
        "version": "4.5"
        }
        },
            "nbformat": 4,
            "nbformat_minor": 1
        }
        

