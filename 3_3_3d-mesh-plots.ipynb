
        {
            "cells": [
          {
           "cell_type": "markdown",
           "metadata": {},
           
           "source": ["// can\u0027t yet format YamlFrontmatter ([\"title: 3D Mesh plots\"; \"category: 3D Charts\"; \"categoryindex: 4\"; \"index: 4\"], Some { StartLine = 2 StartColumn = 0 EndLine = 6 EndColumn = 8 }) to pynb markdown\n",
"\n"]
          }
,
          {
           "cell_type": "code",
           "metadata": {},
            "execution_count": null, "outputs": [], 
           "source": ["#r \"nuget: Plotly.NET, 2.0.0\"\n",
"#r \"nuget: Plotly.NET.Interactive, 2.0.0\"\n"]
          }
,
          {
           "cell_type": "markdown",
           "metadata": {},
           
           "source": ["# 3D Mesh plots\n",
"\n",
"[![Binder](https://plotly.net/img/badge-binder.svg)](https://mybinder.org/v2/gh/plotly/Plotly.NET/gh-pages?filepath=3_3_3d-mesh-plots.ipynb)\u0026emsp;\n",
"[![Script](https://plotly.net/img/badge-script.svg)](https://plotly.net/3_3_3d-mesh-plots.fsx)\u0026emsp;\n",
"[![Notebook](https://plotly.net/img/badge-notebook.svg)](https://plotly.net/3_3_3d-mesh-plots.ipynb)\n",
"\n",
"*Summary:* This example shows how to create 3D-Mesh charts in F#.\n",
"\n",
"let\u0027s first create some data for the purpose of creating example charts:\n",
"\n"]
          }
,
          {
           "cell_type": "code",
           "metadata": {},
            "execution_count": 3, "outputs": [], 
           "source": ["open System\n",
"open Plotly.NET \n",
"\n",
"\n",
"//---------------------- Generate linearly spaced vector ----------------------\n",
"let linspace (min,max,n) = \n",
"    if n \u003c= 2 then failwithf \"n needs to be larger then 2\"\n",
"    let bw = float (max - min) / (float n - 1.)\n",
"    Array.init n (fun i -\u003e min + (bw * float i))\n",
"    //[|min ..bw ..max|]\n",
"\n",
"//---------------------- Create example data ----------------------\n",
"let size = 100\n",
"let x = linspace(-2. * Math.PI, 2. * Math.PI, size)\n",
"let y = linspace(-2. * Math.PI, 2. * Math.PI, size)\n",
"\n",
"let f x y = - (5. * x / (x**2. + y**2. + 1.) )\n",
"\n",
"let z = \n",
"    Array.init size (fun i -\u003e \n",
"        Array.init size (fun j -\u003e \n",
"            f x.[j] y.[i] \n",
"        )\n",
"    )\n",
"\n",
"let rnd = System.Random()\n",
"let a = Array.init 50 (fun _ -\u003e rnd.NextDouble())\n",
"let b = Array.init 50 (fun _ -\u003e rnd.NextDouble())\n",
"let c = Array.init 50 (fun _ -\u003e rnd.NextDouble())\n",
"\n",
"\n",
"let mesh3d =\n",
"    Trace3d.initMesh3d \n",
"        (fun mesh3d -\u003e\n",
"            mesh3d?x \u003c- a\n",
"            mesh3d?y \u003c- b\n",
"            mesh3d?z \u003c- c\n",
"            mesh3d?flatshading \u003c- true\n",
"            mesh3d?contour \u003c- Contours.initXyz(Show=true)\n",
"            mesh3d\n",
"            )\n",
"    |\u003e GenericChart.ofTraceObject \n",
"    \n"]
          }
,
          {
           "cell_type": "code",
           "metadata": {},
            "execution_count": null, "outputs": [
          {
           "data": {
            "text/html": ["\u003cdiv id=\"1bd3bf4b-f65d-4942-8a76-26a1d3304177\" style=\"width: 600px; height: 600px;\"\u003e\u003c!-- Plotly chart will be drawn inside this DIV --\u003e\u003c/div\u003e",
"\u003cscript type=\"text/javascript\"\u003e",
"",
"            var renderPlotly_1bd3bf4bf65d49428a7626a1d3304177 = function() {",
"            var fsharpPlotlyRequire = requirejs.config({context:\u0027fsharp-plotly\u0027,paths:{plotly:\u0027https://cdn.plot.ly/plotly-latest.min\u0027}}) || require;",
"            fsharpPlotlyRequire([\u0027plotly\u0027], function(Plotly) {",
"",
"            var data = [{\"type\":\"mesh3d\",\"x\":[0.09981044060541804,0.9800677769724595,0.27109300963165844,0.423014370455879,0.5417139467511857,0.29178035040003264,0.08311577377985967,0.5231415305860069,0.9624563841905708,0.06515143814736579,0.7641835211609413,0.0595370992364069,0.9328841953225826,0.27866910969776526,0.2086933619383226,0.5970787567072915,0.2831034237905887,0.28537545133632397,0.015967540916040326,0.7258159502995275,0.18848863252833886,0.3208476809416188,0.5560525118168688,0.055192139956723965,0.5436897522507653,0.5180706081530408,0.4750605185865706,0.25958245119991824,0.18850913373218342,0.3158860357086575,0.5033767523725409,0.10000176965259099,0.8540803193366528,0.9433772605580172,0.14662950818735618,0.5004413689023076,0.37508780480133735,0.6540879871016778,0.3102075514896808,0.19882634943296498,0.22998504956717838,0.20581967113810576,0.8338592875906542,0.12195373844446322,0.6536278527479749,0.17505171623781868,0.24826205999043865,0.7117552164531105,0.8319782516136665,0.1883174759281415],\"y\":[0.31664653882228144,0.4344836256627383,0.13471149054109655,0.055446797542016396,0.4866941117153941,0.7789627596637992,0.42401526515559074,0.2159008696749345,0.8793246182051137,0.023643338598144863,0.816719831813462,0.8235333225799414,0.3346323968538234,0.6465703484819133,0.5617746857748249,0.6641817515083503,0.205456779899754,0.9895069347645654,0.13203960151040908,0.7082519930360149,0.22199095190595414,0.6290154366889109,0.9751678998466432,0.8171411914830754,0.4958309007323491,0.9826689613902331,0.4869883933509646,0.43409877337240554,0.4015642872087491,0.36863803601294665,0.26980854816260214,0.7633053021334602,0.42760419958625184,0.00019165780404194156,0.999239496886376,0.0688931267098026,0.9652902791114945,0.7986335217946365,0.45668314884262307,0.36766674852355696,0.0764261037467169,0.15918693512640286,0.7747633688965642,0.28656421289153594,0.382106517619503,0.40645172698723697,0.8711872742842823,0.18728893910874098,0.5601790526696383,0.9894461012396245],\"z\":[0.9695949363380647,0.25875512522587324,0.5797156149427014,0.12372625857765146,0.9663265240221873,0.6876311021333705,0.45931572581609514,0.3175702990580212,0.5596158968096673,0.504025150325161,0.29197436631283463,0.9899164917831852,0.8143365824661853,0.510686582192167,0.7538347904355427,0.05341452968000179,0.39592912299368954,0.33444073904978144,0.6473308515955372,0.4928815590650223,0.6988914723968559,0.4068232581051175,0.5328237859219424,0.7643728529868521,0.6318258892892981,0.06280401677955129,0.8542520677923467,0.6886036869551072,0.43503467386357236,0.0893791737451121,0.11148168710595076,0.2996994542422236,0.8739197207027672,0.41211818596912464,0.39904309967488194,0.011053422936728887,0.18358968719075885,0.3038779410086004,0.033865133781854594,0.31160839475300556,0.6095774008937075,0.6477199800534733,0.2390176249849692,0.952657998517462,0.07569238221072237,0.08650961196353175,0.34485035266021746,0.2640767867043972,0.5327294224559932,0.32869198793950116],\"flatshading\":true,\"contour\":{\"x\":{\"show\":true},\"y\":{\"show\":true},\"z\":{\"show\":true}}}];",
"            var layout = {};",
"            var config = {};",
"            Plotly.newPlot(\u00271bd3bf4b-f65d-4942-8a76-26a1d3304177\u0027, data, layout, config);",
"});",
"            };",
"            if ((typeof(requirejs) !==  typeof(Function)) || (typeof(requirejs.config) !== typeof(Function))) {",
"                var script = document.createElement(\"script\");",
"                script.setAttribute(\"src\", \"https://cdnjs.cloudflare.com/ajax/libs/require.js/2.3.6/require.min.js\");",
"                script.onload = function(){",
"                    renderPlotly_1bd3bf4bf65d49428a7626a1d3304177();",
"                };",
"                document.getElementsByTagName(\"head\")[0].appendChild(script);",
"            }",
"            else {",
"                renderPlotly_1bd3bf4bf65d49428a7626a1d3304177();",
"            }",
"\u003c/script\u003e",
""]
        },
           "execution_count": null,
           "metadata": {},
           "output_type": "execute_result"
          }], 
           "source": ["mesh3d\n"]
          }],
            "metadata": {
            "kernelspec": {"display_name": ".NET (F#)", "language": "F#", "name": ".net-fsharp"},
            "langauge_info": {
        "file_extension": ".fs",
        "mimetype": "text/x-fsharp",
        "name": "C#",
        "pygments_lexer": "fsharp",
        "version": "4.5"
        }
        },
            "nbformat": 4,
            "nbformat_minor": 1
        }
        

