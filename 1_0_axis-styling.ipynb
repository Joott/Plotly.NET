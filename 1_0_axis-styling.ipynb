
        {
            "cells": [
          {
           "cell_type": "markdown",
           "metadata": {},
           
           "source": ["// can\u0027t yet format YamlFrontmatter ([\"title: Axis styling\"; \"category: Chart Layout\"; \"categoryindex: 2\"; \"index: 1\"], Some { StartLine = 2 StartColumn = 0 EndLine = 6 EndColumn = 8 }) to pynb markdown\n",
"\n"]
          }
,
          {
           "cell_type": "code",
           "metadata": {},
            "execution_count": null, "outputs": [], 
           "source": ["#r \"nuget: Plotly.NET, 2.0.0\"\n",
"#r \"nuget: Plotly.NET.Interactive, 2.0.0\"\n"]
          }
,
          {
           "cell_type": "markdown",
           "metadata": {},
           
           "source": ["# Axis styling\n",
"\n",
"[![Binder](https://plotly.net/img/badge-binder.svg)](https://mybinder.org/v2/gh/plotly/Plotly.NET/gh-pages?filepath=1_0_axis-styling.ipynb)\u0026emsp;\n",
"[![Script](https://plotly.net/img/badge-script.svg)](https://plotly.net/1_0_axis-styling.fsx)\u0026emsp;\n",
"[![Notebook](https://plotly.net/img/badge-notebook.svg)](https://plotly.net/1_0_axis-styling.ipynb)\n",
"\n",
"*Summary:* This example shows how to style chart axes in F#.\n",
"\n",
"let\u0027s first create some data for the purpose of creating example charts:\n",
"\n"]
          }
,
          {
           "cell_type": "code",
           "metadata": {},
            "execution_count": 3, "outputs": [], 
           "source": ["open Plotly.NET \n",
"  \n",
"let x = [1.; 2.; 3.; 4.; 5.; 6.; 7.; 8.; 9.; 10.; ]\n",
"let y = [2.; 1.5; 5.; 1.5; 3.; 2.5; 2.5; 1.5; 3.5; 1.]\n",
"let y\u0027 = y |\u003e List.map (fun y -\u003e y * 2.) |\u003e List.rev\n"]
          }
,
          {
           "cell_type": "markdown",
           "metadata": {},
           
           "source": ["## Single axis styling\n",
"\n",
"To style a specific axis of a plot, use the respective `Chart.with*_AxisStyle` function:\n",
"\n",
"\n"]
          }
,
          {
           "cell_type": "code",
           "metadata": {},
            "execution_count": 4, "outputs": [], 
           "source": ["let plot1 =\n",
"    Chart.Point(x,y)\n",
"    |\u003e Chart.withX_AxisStyle (\"X axis title\", MinMax = (-1.,10.))\n",
"    |\u003e Chart.withY_AxisStyle (\"Y axis title\", MinMax = (-1.,10.))\n"]
          }
,
          {
           "cell_type": "code",
           "metadata": {},
            "execution_count": null, "outputs": [
          {
           "data": {
            "text/html": ["\u003cdiv id=\"fb6f1ec3-8784-4842-8a44-8e0ca295f9cd\" style=\"width: 600px; height: 600px;\"\u003e\u003c!-- Plotly chart will be drawn inside this DIV --\u003e\u003c/div\u003e",
"\u003cscript type=\"text/javascript\"\u003e",
"",
"            var renderPlotly_fb6f1ec3878448428a448e0ca295f9cd = function() {",
"            var fsharpPlotlyRequire = requirejs.config({context:\u0027fsharp-plotly\u0027,paths:{plotly:\u0027https://cdn.plot.ly/plotly-latest.min\u0027}}) || require;",
"            fsharpPlotlyRequire([\u0027plotly\u0027], function(Plotly) {",
"",
"            var data = [{\"type\":\"scatter\",\"x\":[1.0,2.0,3.0,4.0,5.0,6.0,7.0,8.0,9.0,10.0],\"y\":[2.0,1.5,5.0,1.5,3.0,2.5,2.5,1.5,3.5,1.0],\"mode\":\"markers\",\"marker\":{}}];",
"            var layout = {\"xaxis\":{\"title\":\"X axis title\",\"range\":[-1.0,10.0]},\"yaxis\":{\"title\":\"Y axis title\",\"range\":[-1.0,10.0]}};",
"            var config = {};",
"            Plotly.newPlot(\u0027fb6f1ec3-8784-4842-8a44-8e0ca295f9cd\u0027, data, layout, config);",
"});",
"            };",
"            if ((typeof(requirejs) !==  typeof(Function)) || (typeof(requirejs.config) !== typeof(Function))) {",
"                var script = document.createElement(\"script\");",
"                script.setAttribute(\"src\", \"https://cdnjs.cloudflare.com/ajax/libs/require.js/2.3.6/require.min.js\");",
"                script.onload = function(){",
"                    renderPlotly_fb6f1ec3878448428a448e0ca295f9cd();",
"                };",
"                document.getElementsByTagName(\"head\")[0].appendChild(script);",
"            }",
"            else {",
"                renderPlotly_fb6f1ec3878448428a448e0ca295f9cd();",
"            }",
"\u003c/script\u003e",
""]
        },
           "execution_count": null,
           "metadata": {},
           "output_type": "execute_result"
          }], 
           "source": ["plot1\n"]
          }
,
          {
           "cell_type": "markdown",
           "metadata": {},
           
           "source": ["for even more fine-grained control, initialize a new axis and replace the old one of the plot with ````.\n",
"The following example creates two mirrored axes with inside ticks, one of them with a log scale:\n",
"\n"]
          }
,
          {
           "cell_type": "code",
           "metadata": {},
            "execution_count": 6, "outputs": [], 
           "source": ["let mirroredXAxis =\n",
"    Axis.LinearAxis.init(\n",
"        Title =\"Log axis\",\n",
"        Showline = true,\n",
"        Mirror = StyleParam.Mirror.AllTicks,\n",
"        Showgrid = false,\n",
"        Ticks = StyleParam.TickOptions.Inside\n",
"    )\n",
"\n",
"let mirroredLogYAxis = \n",
"    Axis.LinearAxis.init(\n",
"        Title =\"Log axis\",\n",
"        AxisType = StyleParam.AxisType.Log,\n",
"        Showline = true,\n",
"        Mirror = StyleParam.Mirror.AllTicks,\n",
"        Showgrid = false,\n",
"        Ticks = StyleParam.TickOptions.Inside\n",
"    )\n",
"\n",
"let plot2 =\n",
"    Chart.Point(x,y)\n",
"    |\u003e Chart.withX_Axis mirroredXAxis\n",
"    |\u003e Chart.withY_Axis mirroredLogYAxis\n"]
          }
,
          {
           "cell_type": "code",
           "metadata": {},
            "execution_count": null, "outputs": [
          {
           "data": {
            "text/html": ["\u003cdiv id=\"94c94b4a-8c39-4e1d-a45e-f53009d3e3a7\" style=\"width: 600px; height: 600px;\"\u003e\u003c!-- Plotly chart will be drawn inside this DIV --\u003e\u003c/div\u003e",
"\u003cscript type=\"text/javascript\"\u003e",
"",
"            var renderPlotly_94c94b4a8c394e1da45ef53009d3e3a7 = function() {",
"            var fsharpPlotlyRequire = requirejs.config({context:\u0027fsharp-plotly\u0027,paths:{plotly:\u0027https://cdn.plot.ly/plotly-latest.min\u0027}}) || require;",
"            fsharpPlotlyRequire([\u0027plotly\u0027], function(Plotly) {",
"",
"            var data = [{\"type\":\"scatter\",\"x\":[1.0,2.0,3.0,4.0,5.0,6.0,7.0,8.0,9.0,10.0],\"y\":[2.0,1.5,5.0,1.5,3.0,2.5,2.5,1.5,3.5,1.0],\"mode\":\"markers\",\"marker\":{}}];",
"            var layout = {\"xaxis\":{\"title\":\"Log axis\",\"ticks\":\"inside\",\"mirror\":\"allticks\",\"showline\":true,\"showgrid\":false},\"yaxis\":{\"type\":\"log\",\"title\":\"Log axis\",\"ticks\":\"inside\",\"mirror\":\"allticks\",\"showline\":true,\"showgrid\":false}};",
"            var config = {};",
"            Plotly.newPlot(\u002794c94b4a-8c39-4e1d-a45e-f53009d3e3a7\u0027, data, layout, config);",
"});",
"            };",
"            if ((typeof(requirejs) !==  typeof(Function)) || (typeof(requirejs.config) !== typeof(Function))) {",
"                var script = document.createElement(\"script\");",
"                script.setAttribute(\"src\", \"https://cdnjs.cloudflare.com/ajax/libs/require.js/2.3.6/require.min.js\");",
"                script.onload = function(){",
"                    renderPlotly_94c94b4a8c394e1da45ef53009d3e3a7();",
"                };",
"                document.getElementsByTagName(\"head\")[0].appendChild(script);",
"            }",
"            else {",
"                renderPlotly_94c94b4a8c394e1da45ef53009d3e3a7();",
"            }",
"\u003c/script\u003e",
""]
        },
           "execution_count": null,
           "metadata": {},
           "output_type": "execute_result"
          }], 
           "source": ["plot2\n"]
          }
,
          {
           "cell_type": "markdown",
           "metadata": {},
           
           "source": ["## Multiple axes\n",
"\n",
"Assign different axis anchors to subplots to map them to different axes.\n",
"\n",
"### Multiple axes on different sides of the chart\n",
"\n",
"The following example first creates a multichart containing two plots with different axis anchors.\n",
"Subsequently, multiple axes with the respective anchors are added to the plot. \n",
"Note that the same can be done as above, defining axes beforehand.\n",
"\n",
"\n"]
          }
,
          {
           "cell_type": "code",
           "metadata": {},
            "execution_count": 8, "outputs": [], 
           "source": ["let anchoredAt1 =\n",
"    Chart.Line (x,y,Name=\"anchor 1\")\n",
"        |\u003e Chart.withAxisAnchor(Y=1)\n",
"\n",
"let anchoredAt2 =\n",
"     Chart.Line (x,y\u0027,Name=\"anchor 2\")\n",
"        |\u003e Chart.withAxisAnchor(Y=2)\n",
"\n",
"let twoXAxes1 = \n",
"    [\n",
"       anchoredAt1\n",
"       anchoredAt2\n",
"    ]\n",
"    |\u003e Chart.Combine\n",
"    |\u003e Chart.withY_AxisStyle(\n",
"        \"axis 1\",\n",
"        Side=StyleParam.Side.Left,\n",
"        Id=1\n",
"    )\n",
"    |\u003e Chart.withY_AxisStyle(\n",
"        \"axis2\",\n",
"        Side=StyleParam.Side.Right,\n",
"        Id=2,\n",
"        Overlaying=StyleParam.AxisAnchorId.Y 1\n",
"    )\n",
"        \n"]
          }
,
          {
           "cell_type": "code",
           "metadata": {},
            "execution_count": null, "outputs": [
          {
           "data": {
            "text/html": ["\u003cdiv id=\"9d39e3f1-0b00-4130-b5b3-b185053f2f91\" style=\"width: 600px; height: 600px;\"\u003e\u003c!-- Plotly chart will be drawn inside this DIV --\u003e\u003c/div\u003e",
"\u003cscript type=\"text/javascript\"\u003e",
"",
"            var renderPlotly_9d39e3f10b004130b5b3b185053f2f91 = function() {",
"            var fsharpPlotlyRequire = requirejs.config({context:\u0027fsharp-plotly\u0027,paths:{plotly:\u0027https://cdn.plot.ly/plotly-latest.min\u0027}}) || require;",
"            fsharpPlotlyRequire([\u0027plotly\u0027], function(Plotly) {",
"",
"            var data = [{\"type\":\"scatter\",\"x\":[1.0,2.0,3.0,4.0,5.0,6.0,7.0,8.0,9.0,10.0],\"y\":[2.0,1.5,5.0,1.5,3.0,2.5,2.5,1.5,3.5,1.0],\"mode\":\"lines\",\"line\":{},\"name\":\"anchor 1\",\"marker\":{},\"yaxis\":\"y\"},{\"type\":\"scatter\",\"x\":[1.0,2.0,3.0,4.0,5.0,6.0,7.0,8.0,9.0,10.0],\"y\":[2.0,7.0,3.0,5.0,5.0,6.0,3.0,10.0,3.0,4.0],\"mode\":\"lines\",\"line\":{},\"name\":\"anchor 2\",\"marker\":{},\"yaxis\":\"y2\"}];",
"            var layout = {\"yaxis\":{\"title\":\"axis 1\",\"side\":\"left\"},\"yaxis2\":{\"title\":\"axis2\",\"side\":\"right\",\"overlaying\":\"y\"}};",
"            var config = {};",
"            Plotly.newPlot(\u00279d39e3f1-0b00-4130-b5b3-b185053f2f91\u0027, data, layout, config);",
"});",
"            };",
"            if ((typeof(requirejs) !==  typeof(Function)) || (typeof(requirejs.config) !== typeof(Function))) {",
"                var script = document.createElement(\"script\");",
"                script.setAttribute(\"src\", \"https://cdnjs.cloudflare.com/ajax/libs/require.js/2.3.6/require.min.js\");",
"                script.onload = function(){",
"                    renderPlotly_9d39e3f10b004130b5b3b185053f2f91();",
"                };",
"                document.getElementsByTagName(\"head\")[0].appendChild(script);",
"            }",
"            else {",
"                renderPlotly_9d39e3f10b004130b5b3b185053f2f91();",
"            }",
"\u003c/script\u003e",
""]
        },
           "execution_count": null,
           "metadata": {},
           "output_type": "execute_result"
          }], 
           "source": ["twoXAxes1\n"]
          }
,
          {
           "cell_type": "markdown",
           "metadata": {},
           
           "source": ["### Multiple axes on the same side of the chart\n",
"\n",
"Analogous to above, but move the whole plot to the right by adjusting its domain, and then add a second axis to the left:\n",
"\n",
"\n"]
          }
,
          {
           "cell_type": "code",
           "metadata": {},
            "execution_count": 10, "outputs": [], 
           "source": ["let twoXAxes2 =\n",
"    [\n",
"        anchoredAt1\n",
"        anchoredAt2\n",
"    ]\n",
"    |\u003e Chart.Combine\n",
"    |\u003e Chart.withY_AxisStyle(\n",
"            \"first y-axis\",\n",
"            Showline=true\n",
"            )\n",
"    |\u003e Chart.withX_AxisStyle(\n",
"        \"x-axis\",\n",
"        Domain=(0.3, 1.0) // moves the first axis and the whole plot to the right\n",
"    ) \n",
"    |\u003e Chart.withY_AxisStyle(\n",
"        \"second y-axis\",\n",
"        Side=StyleParam.Side.Left,\n",
"        Id=2,\n",
"        Overlaying=StyleParam.AxisAnchorId.Y 1,\n",
"        Position=0.10, // position the axis beteen the leftmost edge and the firt axis at 0.3\n",
"        Anchor=StyleParam.AxisAnchorId.Free,\n",
"        Showline=true\n",
"    )\n"]
          }
,
          {
           "cell_type": "code",
           "metadata": {},
            "execution_count": null, "outputs": [
          {
           "data": {
            "text/html": ["\u003cdiv id=\"d6a1eaae-bb49-4f93-880e-8f146593ff55\" style=\"width: 600px; height: 600px;\"\u003e\u003c!-- Plotly chart will be drawn inside this DIV --\u003e\u003c/div\u003e",
"\u003cscript type=\"text/javascript\"\u003e",
"",
"            var renderPlotly_d6a1eaaebb494f93880e8f146593ff55 = function() {",
"            var fsharpPlotlyRequire = requirejs.config({context:\u0027fsharp-plotly\u0027,paths:{plotly:\u0027https://cdn.plot.ly/plotly-latest.min\u0027}}) || require;",
"            fsharpPlotlyRequire([\u0027plotly\u0027], function(Plotly) {",
"",
"            var data = [{\"type\":\"scatter\",\"x\":[1.0,2.0,3.0,4.0,5.0,6.0,7.0,8.0,9.0,10.0],\"y\":[2.0,1.5,5.0,1.5,3.0,2.5,2.5,1.5,3.5,1.0],\"mode\":\"lines\",\"line\":{},\"name\":\"anchor 1\",\"marker\":{},\"yaxis\":\"y\"},{\"type\":\"scatter\",\"x\":[1.0,2.0,3.0,4.0,5.0,6.0,7.0,8.0,9.0,10.0],\"y\":[2.0,7.0,3.0,5.0,5.0,6.0,3.0,10.0,3.0,4.0],\"mode\":\"lines\",\"line\":{},\"name\":\"anchor 2\",\"marker\":{},\"yaxis\":\"y2\"}];",
"            var layout = {\"yaxis\":{\"title\":\"first y-axis\",\"side\":\"left\",\"showline\":true},\"yaxis2\":{\"title\":\"second y-axis\",\"side\":\"left\",\"overlaying\":\"y\",\"showline\":true,\"anchor\":\"free\",\"position\":0.1},\"xaxis\":{\"title\":\"x-axis\",\"domain\":[0.3,1.0]}};",
"            var config = {};",
"            Plotly.newPlot(\u0027d6a1eaae-bb49-4f93-880e-8f146593ff55\u0027, data, layout, config);",
"});",
"            };",
"            if ((typeof(requirejs) !==  typeof(Function)) || (typeof(requirejs.config) !== typeof(Function))) {",
"                var script = document.createElement(\"script\");",
"                script.setAttribute(\"src\", \"https://cdnjs.cloudflare.com/ajax/libs/require.js/2.3.6/require.min.js\");",
"                script.onload = function(){",
"                    renderPlotly_d6a1eaaebb494f93880e8f146593ff55();",
"                };",
"                document.getElementsByTagName(\"head\")[0].appendChild(script);",
"            }",
"            else {",
"                renderPlotly_d6a1eaaebb494f93880e8f146593ff55();",
"            }",
"\u003c/script\u003e",
""]
        },
           "execution_count": null,
           "metadata": {},
           "output_type": "execute_result"
          }], 
           "source": ["twoXAxes2\n"]
          }],
            "metadata": {
            "kernelspec": {"display_name": ".NET (F#)", "language": "F#", "name": ".net-fsharp"},
            "langauge_info": {
        "file_extension": ".fs",
        "mimetype": "text/x-fsharp",
        "name": "C#",
        "pygments_lexer": "fsharp",
        "version": "4.5"
        }
        },
            "nbformat": 4,
            "nbformat_minor": 1
        }
        

